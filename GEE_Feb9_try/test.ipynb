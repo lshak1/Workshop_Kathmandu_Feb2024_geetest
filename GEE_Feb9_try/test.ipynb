{
 "cells": [
  {
   "cell_type": "code",
   "execution_count": 6,
   "metadata": {},
   "outputs": [
    {
     "name": "stdout",
     "output_type": "stream",
     "text": [
      "GeoJSON file saved to bgd_admbnda_adm2_bbs_20201113.json\n"
     ]
    }
   ],
   "source": [
    "import geopandas as gpd\n",
    "\n",
    "# Load the shapefile\n",
    "shapefile_path = 'bgd_admbnda_adm2_bbs_20201113.shp'\n",
    "gdf = gpd.read_file(shapefile_path)\n",
    "\n",
    "# Convert Timestamp columns to strings\n",
    "gdf['date'] = gdf['date'].astype(str)\n",
    "gdf['validOn'] = gdf['validOn'].astype(str)\n",
    "gdf['ValidTo'] = gdf['ValidTo'].astype(str)\n",
    "\n",
    "# Convert the GeoDataFrame to GeoJSON\n",
    "geojson = gdf.to_json()\n",
    "\n",
    "# Save the GeoJSON to a file\n",
    "geojson_path = 'bgd_admbnda_adm2_bbs_20201113.json'\n",
    "with open(geojson_path, 'w') as f:\n",
    "    f.write(geojson)\n",
    "\n",
    "print(f\"GeoJSON file saved to {geojson_path}\")"
   ]
  }
 ],
 "metadata": {
  "kernelspec": {
   "display_name": "Python 3",
   "language": "python",
   "name": "python3"
  },
  "language_info": {
   "codemirror_mode": {
    "name": "ipython",
    "version": 3
   },
   "file_extension": ".py",
   "mimetype": "text/x-python",
   "name": "python",
   "nbconvert_exporter": "python",
   "pygments_lexer": "ipython3",
   "version": "3.11.3"
  }
 },
 "nbformat": 4,
 "nbformat_minor": 2
}
